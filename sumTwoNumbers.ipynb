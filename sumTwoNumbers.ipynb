{
 "cells": [
  {
   "cell_type": "code",
   "execution_count": 105,
   "metadata": {
    "collapsed": false
   },
   "outputs": [
    {
     "name": "stdout",
     "output_type": "stream",
     "text": [
      "Please enter first string number : one\n",
      "Number one is:  1\n",
      "Please enter second string number : two\n",
      "Number two is:  2\n",
      "The sum is:  3\n"
     ]
    }
   ],
   "source": [
    "default = \"zero\"\n",
    "\n",
    "data_numbers = {\n",
    "        \"zero\" : 0,\n",
    "        \"one\" : 1,\n",
    "        \"two\" : 2,\n",
    "        \"three\" : 3,\n",
    "        \"four\" : 4,\n",
    "        \"five\" : 5,\n",
    "        \"six\" : 6,\n",
    "        \"seven\" : 7,\n",
    "        \"eight\" : 8,\n",
    "        \"nine\" : 9,\n",
    "        \"ten\" : 10,\n",
    "        \"eleven\": 11,\n",
    "        \"twelve\": 12,\n",
    "        \"thirteen\": 13,\n",
    "        \"fourteen\": 14,\n",
    "        \"fifteen\": 15,\n",
    "        \"sixteen\": 16,\n",
    "        \"seventeen\": 17,\n",
    "        \"eighteen\": 18,\n",
    "        \"nineteen\": 19,\n",
    "        \"twenty\" : 20,\n",
    "        \"thirty\" : 30,\n",
    "        \"forty\" : 40,\n",
    "        \"fifty\" : 50,\n",
    "        \"sixty\" : 60,\n",
    "        \"seventy\" : 70,\n",
    "        \"eighty\" : 80,\n",
    "        \"ninety\" : 90,\n",
    "        \"hundred\" : 100,\n",
    "        \"thousand\" : 1000,\n",
    "        \"million\" : 1000000,\n",
    "        \"billion\" : 1000000000,\n",
    "        \"trillion\" : 1000000000000,\n",
    "        \"quadrillion\" : 1000000000000000,\n",
    "        \"quintillion\" : 1000000000000000000,\n",
    "        \"sextillion\" : 1000000000000000000000,\n",
    "        \"septillion\" : 1000000000000000000000000,\n",
    "        \"octillion\" : 1000000000000000000000000000,\n",
    "        \"nonillion\" : 1000000000000000000000000000000\n",
    "        };\n",
    "\n",
    "\n",
    "data_spliters = {\n",
    "        \"thousand\" : 1000,\n",
    "        \"million\" : 1000000,\n",
    "        \"billion\" : 1000000000,\n",
    "        \"trillion\" : 1000000000000,\n",
    "        \"quadrillion\" : 1000000000000000,\n",
    "        \"quintillion\" : 1000000000000000000,\n",
    "        \"sextillion\" : 1000000000000000000000,\n",
    "        \"septillion\" : 1000000000000000000000000,\n",
    "        \"octillion\" : 1000000000000000000000000000,\n",
    "        \"nonillion\" : 1000000000000000000000000000000\n",
    "        };\n",
    "\n",
    "def word_to_num(Word_Number):\n",
    "    words = Word_Number.split(\" \");\n",
    "    number = 0;\n",
    "    auxiliar = 0;\n",
    "    for i in range(len(words)):\n",
    "        if words[i] in data_spliters :\n",
    "            if auxiliar == 0:\n",
    "                auxiliar = 1;\n",
    "            auxiliar *= data_numbers.get(words[i],0);\n",
    "            number += auxiliar;\n",
    "            auxiliar = 0;\n",
    "        else:\n",
    "            if words[i] == \"hundred\" :\n",
    "                if auxiliar == 0:\n",
    "                    auxiliar = 1;\n",
    "                auxiliar *= data_numbers.get(words[i],0);\n",
    "            else:\n",
    "                auxiliar += data_numbers.get(words[i],0);\n",
    "    number += auxiliar;\n",
    "    return number\n",
    "\n",
    "inputnumberOne = raw_input(\"Please enter first string number : \");\n",
    "print 'Number one is: ', word_to_num(inputnumberOne);\n",
    "inputnumberTwo = raw_input(\"Please enter second string number : \");\n",
    "print 'Number two is: ', word_to_num(inputnumberTwo);\n",
    "\n",
    "numberOne = word_to_num(inputnumberOne);\n",
    "numberTwo = word_to_num(inputnumberTwo);\n",
    "\n",
    "print 'The sum is: ', numberOne + numberTwo"
   ]
  },
  {
   "cell_type": "code",
   "execution_count": null,
   "metadata": {
    "collapsed": true
   },
   "outputs": [],
   "source": []
  }
 ],
 "metadata": {
  "kernelspec": {
   "display_name": "Python [Root]",
   "language": "python",
   "name": "Python [Root]"
  },
  "language_info": {
   "codemirror_mode": {
    "name": "ipython",
    "version": 2
   },
   "file_extension": ".py",
   "mimetype": "text/x-python",
   "name": "python",
   "nbconvert_exporter": "python",
   "pygments_lexer": "ipython2",
   "version": "2.7.11"
  }
 },
 "nbformat": 4,
 "nbformat_minor": 0
}
